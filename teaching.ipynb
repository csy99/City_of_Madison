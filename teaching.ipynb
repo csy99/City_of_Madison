{
 "cells": [
  {
   "cell_type": "code",
   "execution_count": 1,
   "metadata": {},
   "outputs": [],
   "source": [
    "import pandas as pd\n",
    "import numpy as np\n",
    "import matplotlib.pyplot as plt\n",
    "import seaborn as sns"
   ]
  },
  {
   "cell_type": "markdown",
   "metadata": {},
   "source": [
    "# beautify your plots"
   ]
  },
  {
   "cell_type": "code",
   "execution_count": 2,
   "metadata": {},
   "outputs": [],
   "source": [
    "import random"
   ]
  },
  {
   "cell_type": "code",
   "execution_count": 3,
   "metadata": {},
   "outputs": [
    {
     "data": {
      "text/html": [
       "<div>\n",
       "<style scoped>\n",
       "    .dataframe tbody tr th:only-of-type {\n",
       "        vertical-align: middle;\n",
       "    }\n",
       "\n",
       "    .dataframe tbody tr th {\n",
       "        vertical-align: top;\n",
       "    }\n",
       "\n",
       "    .dataframe thead th {\n",
       "        text-align: right;\n",
       "    }\n",
       "</style>\n",
       "<table border=\"1\" class=\"dataframe\">\n",
       "  <thead>\n",
       "    <tr style=\"text-align: right;\">\n",
       "      <th></th>\n",
       "      <th>A</th>\n",
       "      <th>B</th>\n",
       "      <th>C</th>\n",
       "      <th>D</th>\n",
       "      <th>E</th>\n",
       "      <th>F</th>\n",
       "    </tr>\n",
       "  </thead>\n",
       "  <tbody>\n",
       "    <tr>\n",
       "      <th>0</th>\n",
       "      <td>-1.328841</td>\n",
       "      <td>0.765531</td>\n",
       "      <td>-0.093116</td>\n",
       "      <td>-0.318488</td>\n",
       "      <td>0.475383</td>\n",
       "      <td>-1.255143</td>\n",
       "    </tr>\n",
       "    <tr>\n",
       "      <th>1</th>\n",
       "      <td>-1.122323</td>\n",
       "      <td>-0.510800</td>\n",
       "      <td>-1.619245</td>\n",
       "      <td>1.115265</td>\n",
       "      <td>-0.488938</td>\n",
       "      <td>-1.124161</td>\n",
       "    </tr>\n",
       "    <tr>\n",
       "      <th>2</th>\n",
       "      <td>1.268005</td>\n",
       "      <td>-1.675553</td>\n",
       "      <td>0.505453</td>\n",
       "      <td>3.454056</td>\n",
       "      <td>2.361902</td>\n",
       "      <td>-0.991604</td>\n",
       "    </tr>\n",
       "    <tr>\n",
       "      <th>3</th>\n",
       "      <td>-1.039543</td>\n",
       "      <td>0.203221</td>\n",
       "      <td>2.058207</td>\n",
       "      <td>1.044751</td>\n",
       "      <td>0.331729</td>\n",
       "      <td>-0.265973</td>\n",
       "    </tr>\n",
       "    <tr>\n",
       "      <th>4</th>\n",
       "      <td>-1.961161</td>\n",
       "      <td>-0.331941</td>\n",
       "      <td>-0.107030</td>\n",
       "      <td>0.947246</td>\n",
       "      <td>0.405644</td>\n",
       "      <td>0.055130</td>\n",
       "    </tr>\n",
       "  </tbody>\n",
       "</table>\n",
       "</div>"
      ],
      "text/plain": [
       "          A         B         C         D         E         F\n",
       "0 -1.328841  0.765531 -0.093116 -0.318488  0.475383 -1.255143\n",
       "1 -1.122323 -0.510800 -1.619245  1.115265 -0.488938 -1.124161\n",
       "2  1.268005 -1.675553  0.505453  3.454056  2.361902 -0.991604\n",
       "3 -1.039543  0.203221  2.058207  1.044751  0.331729 -0.265973\n",
       "4 -1.961161 -0.331941 -0.107030  0.947246  0.405644  0.055130"
      ]
     },
     "execution_count": 3,
     "metadata": {},
     "output_type": "execute_result"
    }
   ],
   "source": [
    "df = pd.DataFrame(np.random.normal(size=(25,6)), columns=list(\"ABCDEF\"))\n",
    "df.head()"
   ]
  },
  {
   "cell_type": "code",
   "execution_count": 4,
   "metadata": {},
   "outputs": [],
   "source": [
    "%matplotlib inline"
   ]
  },
  {
   "cell_type": "code",
   "execution_count": 5,
   "metadata": {},
   "outputs": [
    {
     "data": {
      "text/plain": [
       "Text(0, 0.5, 'ylabel')"
      ]
     },
     "execution_count": 5,
     "metadata": {},
     "output_type": "execute_result"
    },
    {
     "data": {
      "image/png": "[encoded data removed]",
      "text/plain": [
       "<Figure size 432x288 with 1 Axes>"
      ]
     },
     "metadata": {
      "needs_background": "light"
     },
     "output_type": "display_data"
    }
   ],
   "source": [
    "ax = plt.subplots()[1]\n",
    "for i in range(len(df.columns)):\n",
    "    col = df.columns[i]\n",
    "    x = i + 1\n",
    "    y = df[col].quantile(0.5)\n",
    "    ax.plot(x, y, 'ro')\n",
    "    \n",
    "    # 0.75 to 1 \n",
    "    y1 = df[col].quantile(0.75)\n",
    "    y2 = df[col].quantile(1)\n",
    "    ax.plot((x,x), (y1,y2), 'k')\n",
    "    \n",
    "    # 0.25 to 0 \n",
    "    y1 = df[col].quantile(0.25)\n",
    "    y2 = df[col].quantile(0)\n",
    "    ax.plot((x,x), (y1,y2), 'k')\n",
    "\n",
    "ax.set_xticklabels(df.columns)\n",
    "ax.set_xticks(range(1, len(df.columns)+1))\n",
    "ax.set_xlim(0.5, len(df.columns)+0.5)\n",
    "ax.spines[\"top\"].set_visible(False)\n",
    "ax.spines[\"right\"].set_visible(False)\n",
    "plt.xlabel(\"xlabel\")\n",
    "plt.ylabel(\"ylabel\")"
   ]
  },
  {
   "cell_type": "markdown",
   "metadata": {},
   "source": [
    "# geo plotting"
   ]
  },
  {
   "cell_type": "code",
   "execution_count": 6,
   "metadata": {},
   "outputs": [],
   "source": [
    "import geopandas\n",
    "from shapely.geometry import Polygon, Point"
   ]
  },
  {
   "cell_type": "code",
   "execution_count": 7,
   "metadata": {},
   "outputs": [
    {
     "data": {
      "text/html": [
       "<div>\n",
       "<style scoped>\n",
       "    .dataframe tbody tr th:only-of-type {\n",
       "        vertical-align: middle;\n",
       "    }\n",
       "\n",
       "    .dataframe tbody tr th {\n",
       "        vertical-align: top;\n",
       "    }\n",
       "\n",
       "    .dataframe thead th {\n",
       "        text-align: right;\n",
       "    }\n",
       "</style>\n",
       "<table border=\"1\" class=\"dataframe\">\n",
       "  <thead>\n",
       "    <tr style=\"text-align: right;\">\n",
       "      <th></th>\n",
       "      <th>OBJECTID</th>\n",
       "      <th>SHAPESTAre</th>\n",
       "      <th>SHAPESTLen</th>\n",
       "      <th>geometry</th>\n",
       "    </tr>\n",
       "  </thead>\n",
       "  <tbody>\n",
       "    <tr>\n",
       "      <th>0</th>\n",
       "      <td>1348</td>\n",
       "      <td>2.675664e+04</td>\n",
       "      <td>7.126214e+02</td>\n",
       "      <td>POLYGON ((-89.28523345356945 43.02112710884431...</td>\n",
       "    </tr>\n",
       "    <tr>\n",
       "      <th>1</th>\n",
       "      <td>1349</td>\n",
       "      <td>1.488101e+05</td>\n",
       "      <td>3.297256e+03</td>\n",
       "      <td>POLYGON ((-89.28049139471618 43.11701006709443...</td>\n",
       "    </tr>\n",
       "    <tr>\n",
       "      <th>2</th>\n",
       "      <td>1350</td>\n",
       "      <td>2.262249e+09</td>\n",
       "      <td>1.135798e+06</td>\n",
       "      <td>POLYGON ((-89.5331291634087 43.0857426328395, ...</td>\n",
       "    </tr>\n",
       "    <tr>\n",
       "      <th>3</th>\n",
       "      <td>1351</td>\n",
       "      <td>5.372867e+05</td>\n",
       "      <td>3.398114e+03</td>\n",
       "      <td>POLYGON ((-89.36924509957318 43.10154266724934...</td>\n",
       "    </tr>\n",
       "  </tbody>\n",
       "</table>\n",
       "</div>"
      ],
      "text/plain": [
       "   OBJECTID    SHAPESTAre    SHAPESTLen  \\\n",
       "0      1348  2.675664e+04  7.126214e+02   \n",
       "1      1349  1.488101e+05  3.297256e+03   \n",
       "2      1350  2.262249e+09  1.135798e+06   \n",
       "3      1351  5.372867e+05  3.398114e+03   \n",
       "\n",
       "                                            geometry  \n",
       "0  POLYGON ((-89.28523345356945 43.02112710884431...  \n",
       "1  POLYGON ((-89.28049139471618 43.11701006709443...  \n",
       "2  POLYGON ((-89.5331291634087 43.0857426328395, ...  \n",
       "3  POLYGON ((-89.36924509957318 43.10154266724934...  "
      ]
     },
     "execution_count": 7,
     "metadata": {},
     "output_type": "execute_result"
    }
   ],
   "source": [
    "city = geopandas.read_file(\"city\")\n",
    "city"
   ]
  },
  {
   "cell_type": "code",
   "execution_count": 8,
   "metadata": {},
   "outputs": [
    {
     "data": {
      "image/svg+xml": [
       "<svg xmlns=\"http://www.w3.org/2000/svg\" xmlns:xlink=\"http://www.w3.org/1999/xlink\" width=\"100.0\" height=\"100.0\" viewBox=\"-89.36943975683593 43.10109923907358 0.0052557460941642375 0.0018903611869802717\" preserveAspectRatio=\"xMinYMin meet\"><g transform=\"matrix(1,0,0,-1,0,86.20408883933413)\"><path fill-rule=\"evenodd\" fill=\"#66cc99\" stroke=\"#555555\" stroke-width=\"0.00010511492188328475\" opacity=\"0.6\" d=\"M -89.36924509957318,43.10154266724934 L -89.36923695217769,43.10156656918838 L -89.36922643920185,43.10166001972124 L -89.36921592619407,43.10175347025156 L -89.36916188700012,43.10183600852923 L -89.36913882260198,43.10192359719375 L -89.36910443881975,43.10203386577549 L -89.36896175800368,43.10233033862541 L -89.36889653751042,43.102422566524496 L -89.36886477256665,43.10249386289749 L -89.36883388037995,43.10279494299781 L -89.36536805012926,43.10273682761603 L -89.36521832413207,43.10273431480915 L -89.36451031248518,43.1027224280893 L -89.36437866800452,43.10272021762852 L -89.36518676580806,43.10150560028962 L -89.3671517599508,43.1015033722886 L -89.36715803651522,43.10129389633632 L -89.36812489371253,43.10130415569363 L -89.36812234552522,43.101528176345916 L -89.36924509957318,43.10154266724934 z\" /></g></svg>"
      ],
      "text/plain": [
       "<shapely.geometry.polygon.Polygon at 0x1488cb782b0>"
      ]
     },
     "execution_count": 8,
     "metadata": {},
     "output_type": "execute_result"
    }
   ],
   "source": [
    "city.iloc[3,3]"
   ]
  },
  {
   "cell_type": "code",
   "execution_count": 9,
   "metadata": {},
   "outputs": [
    {
     "data": {
      "image/png": "[encoded data removed]",
      "text/plain": [
       "<Figure size 1440x1440 with 1 Axes>"
      ]
     },
     "metadata": {
      "needs_background": "light"
     },
     "output_type": "display_data"
    }
   ],
   "source": [
    "# ax = city.plot(color=\"lightgray\", figsize=(20,20))\n",
    "# ax.set_axis_off()\n",
    "# ax.get_figure().savefig(\"map.eps\", bbox_inches=\"tight\")"
   ]
  },
  {
   "cell_type": "code",
   "execution_count": null,
   "metadata": {},
   "outputs": [],
   "source": []
  },
  {
   "cell_type": "markdown",
   "metadata": {},
   "source": [
    "# animation"
   ]
  },
  {
   "cell_type": "code",
   "execution_count": 10,
   "metadata": {},
   "outputs": [],
   "source": [
    "city = geopandas.read_file(\"city\")\n",
    "lakes = geopandas.read_file(\"lakes2\")"
   ]
  },
  {
   "cell_type": "code",
   "execution_count": 11,
   "metadata": {},
   "outputs": [],
   "source": [
    "def drawFrame(ax, percent):\n",
    "    # custom points\n",
    "    buildings = pd.DataFrame([\n",
    "        {\"name\":\"cs\", \"loc\": Point(-89.406749 + percent*0.01, 43.071478)},\n",
    "        {\"name\":\"capital\", \"loc\": Point(-89.384054, 43.074617 + percent*0.01)},\n",
    "    ])\n",
    "    buildings = geopandas.GeoDataFrame(buildings, geometry=\"loc\")\n",
    "    \n",
    "    ax.cla()\n",
    "    city.plot(color=\"lightgray\", figsize=(12,12), ax=ax)\n",
    "    lakes.plot(color=\"darkgray\", ax=ax)\n",
    "    buildings.plot(color=\"black\", marker=\"x\", markersize=200, ax=ax)\n",
    "    ax.set_axis_off()\n",
    "    \n",
    "    if percent > 10:\n",
    "        ax.text(-89.384054, 43.074617, \"error\")"
   ]
  },
  {
   "cell_type": "code",
   "execution_count": 12,
   "metadata": {},
   "outputs": [
    {
     "data": {
      "text/html": [
       "<style>.container { width:100% !important; }</style>"
      ],
      "text/plain": [
       "<IPython.core.display.HTML object>"
      ]
     },
     "metadata": {},
     "output_type": "display_data"
    }
   ],
   "source": [
    "from IPython.display import HTML\n",
    "display(HTML(\"<style>.container { width:100% !important; }</style>\"))\n",
    "from matplotlib import animation \n",
    "%matplotlib inline"
   ]
  },
  {
   "cell_type": "code",
   "execution_count": 13,
   "metadata": {},
   "outputs": [],
   "source": [
    "%%capture \n",
    "fig, ax = plt.subplots()"
   ]
  },
  {
   "cell_type": "code",
   "execution_count": null,
   "metadata": {},
   "outputs": [],
   "source": [
    "# SECONDS = 5\n",
    "# INTERVAL_MS = 250\n",
    "# TOTAL_FRAMES = int(SECONDS * 1000 / INTERVAL_MS)\n",
    "\n",
    "# def update(frame_num):\n",
    "#     print(\"here\")\n",
    "#     drawFrame(ax, frame_num/TOTAL_FRAMES)\n",
    "    \n",
    "# vid = animation.FuncAnimation(fig, update, frames=TOTAL_FRAMES, interval=INTERVAL_MS)\n",
    "# html = vid.to_html5_video()\n",
    "# HTML(html)"
   ]
  },
  {
   "cell_type": "markdown",
   "metadata": {},
   "source": [
    "## Graph"
   ]
  },
  {
   "cell_type": "code",
   "execution_count": 2,
   "metadata": {},
   "outputs": [],
   "source": [
    "from graphviz import Digraph"
   ]
  },
  {
   "cell_type": "code",
   "execution_count": 4,
   "metadata": {},
   "outputs": [],
   "source": [
    "import os\n",
    "os.environ[\"PATH\"] += os.pathsep + 'C:/Users/CSY/Anaconda3/Library/bin/graphviz'"
   ]
  },
  {
   "cell_type": "code",
   "execution_count": 5,
   "metadata": {},
   "outputs": [
    {
     "data": {
      "image/svg+xml": [
       "<?xml version=\"1.0\" encoding=\"UTF-8\" standalone=\"no\"?>\r\n",
       "<!DOCTYPE svg PUBLIC \"-//W3C//DTD SVG 1.1//EN\"\r\n",
       " \"http://www.w3.org/Graphics/SVG/1.1/DTD/svg11.dtd\">\r\n",
       "<!-- Generated by graphviz version 2.38.0 (20140413.2041)\r\n",
       " -->\r\n",
       "<!-- Title: %3 Pages: 1 -->\r\n",
       "<svg width=\"62pt\" height=\"116pt\"\r\n",
       " viewBox=\"0.00 0.00 62.00 116.00\" xmlns=\"http://www.w3.org/2000/svg\" xmlns:xlink=\"http://www.w3.org/1999/xlink\">\r\n",
       "<g id=\"graph0\" class=\"graph\" transform=\"scale(1 1) rotate(0) translate(4 112)\">\r\n",
       "<title>%3</title>\r\n",
       "<polygon fill=\"white\" stroke=\"none\" points=\"-4,4 -4,-112 58,-112 58,4 -4,4\"/>\r\n",
       "<!-- A -->\r\n",
       "<g id=\"node1\" class=\"node\"><title>A</title>\r\n",
       "<ellipse fill=\"none\" stroke=\"black\" cx=\"27\" cy=\"-90\" rx=\"27\" ry=\"18\"/>\r\n",
       "<text text-anchor=\"middle\" x=\"27\" y=\"-86.3\" font-family=\"Times New Roman,serif\" font-size=\"14.00\">A</text>\r\n",
       "</g>\r\n",
       "<!-- B -->\r\n",
       "<g id=\"node2\" class=\"node\"><title>B</title>\r\n",
       "<ellipse fill=\"none\" stroke=\"black\" cx=\"27\" cy=\"-18\" rx=\"27\" ry=\"18\"/>\r\n",
       "<text text-anchor=\"middle\" x=\"27\" y=\"-14.3\" font-family=\"Times New Roman,serif\" font-size=\"14.00\">B</text>\r\n",
       "</g>\r\n",
       "<!-- A&#45;&gt;B -->\r\n",
       "<g id=\"edge1\" class=\"edge\"><title>A&#45;&gt;B</title>\r\n",
       "<path fill=\"none\" stroke=\"black\" d=\"M27,-71.6966C27,-63.9827 27,-54.7125 27,-46.1124\"/>\r\n",
       "<polygon fill=\"black\" stroke=\"black\" points=\"30.5001,-46.1043 27,-36.1043 23.5001,-46.1044 30.5001,-46.1043\"/>\r\n",
       "</g>\r\n",
       "</g>\r\n",
       "</svg>\r\n"
      ],
      "text/plain": [
       "<graphviz.dot.Digraph at 0x184a48d76d8>"
      ]
     },
     "execution_count": 5,
     "metadata": {},
     "output_type": "execute_result"
    }
   ],
   "source": [
    "g = Digraph()\n",
    "g.node(\"A\")\n",
    "g.node(\"B\")\n",
    "g.edge(\"A\",\"B\")\n",
    "g"
   ]
  },
  {
   "cell_type": "code",
   "execution_count": 8,
   "metadata": {},
   "outputs": [],
   "source": [
    "from collections import defaultdict\n",
    "routes = {\n",
    "    \"A\": [1, 5, 7, 9, 12, 19],\n",
    "    \"B\": [25, 12, 11, 7, 2]\n",
    "}\n",
    "\n",
    "stop_counts = defaultdict(int)\n",
    "important = set() # end points and transfer points"
   ]
  },
  {
   "cell_type": "code",
   "execution_count": 9,
   "metadata": {},
   "outputs": [
    {
     "data": {
      "text/plain": [
       "{'A': [1, 7, 12, 19], 'B': [25, 12, 7, 2]}"
      ]
     },
     "execution_count": 9,
     "metadata": {},
     "output_type": "execute_result"
    }
   ],
   "source": [
    "for stops in routes.values():\n",
    "    # end points\n",
    "    important.add(stops[0])\n",
    "    important.add(stops[-1])\n",
    "    for stop in stops:\n",
    "        stop_counts[stop] += 1\n",
    "\n",
    "# transfer points appear twice\n",
    "for stop in stop_counts:\n",
    "    if stop_counts[stop] > 1:\n",
    "        important.add(stop)\n",
    "\n",
    "# filter original routes to only include important points\n",
    "for k in routes:\n",
    "    routes[k] = [stop for stop in routes[k] if stop in important]\n",
    "routes"
   ]
  },
  {
   "cell_type": "code",
   "execution_count": 10,
   "metadata": {},
   "outputs": [
    {
     "data": {
      "image/svg+xml": [
       "<?xml version=\"1.0\" encoding=\"UTF-8\" standalone=\"no\"?>\r\n",
       "<!DOCTYPE svg PUBLIC \"-//W3C//DTD SVG 1.1//EN\"\r\n",
       " \"http://www.w3.org/Graphics/SVG/1.1/DTD/svg11.dtd\">\r\n",
       "<!-- Generated by graphviz version 2.38.0 (20140413.2041)\r\n",
       " -->\r\n",
       "<!-- Title: %3 Pages: 1 -->\r\n",
       "<svg width=\"130pt\" height=\"253pt\"\r\n",
       " viewBox=\"0.00 0.00 130.00 253.00\" xmlns=\"http://www.w3.org/2000/svg\" xmlns:xlink=\"http://www.w3.org/1999/xlink\">\r\n",
       "<g id=\"graph0\" class=\"graph\" transform=\"scale(1 1) rotate(0) translate(4 249)\">\r\n",
       "<title>%3</title>\r\n",
       "<polygon fill=\"white\" stroke=\"none\" points=\"-4,4 -4,-249 126,-249 126,4 -4,4\"/>\r\n",
       "<!-- 1 -->\r\n",
       "<g id=\"node1\" class=\"node\"><title>1</title>\r\n",
       "<polygon fill=\"none\" stroke=\"black\" points=\"56,-245 33,-245 33,-222 56,-222 56,-245\"/>\r\n",
       "<text text-anchor=\"middle\" x=\"44.5\" y=\"-229.8\" font-family=\"Times New Roman,serif\" font-size=\"14.00\">1</text>\r\n",
       "</g>\r\n",
       "<!-- 7 -->\r\n",
       "<g id=\"node3\" class=\"node\"><title>7</title>\r\n",
       "<polygon fill=\"none\" stroke=\"black\" points=\"56,-171 33,-171 33,-148 56,-148 56,-171\"/>\r\n",
       "<text text-anchor=\"middle\" x=\"44.5\" y=\"-155.8\" font-family=\"Times New Roman,serif\" font-size=\"14.00\">7</text>\r\n",
       "</g>\r\n",
       "<!-- 1&#45;&gt;7 -->\r\n",
       "<g id=\"edge1\" class=\"edge\"><title>1&#45;&gt;7</title>\r\n",
       "<path fill=\"none\" stroke=\"#6666ff\" stroke-width=\"1.5\" d=\"M44.5,-221.876C44.5,-211.241 44.5,-194.595 44.5,-181.32\"/>\r\n",
       "<polygon fill=\"#6666ff\" stroke=\"#6666ff\" stroke-width=\"1.5\" points=\"48.0001,-181.167 44.5,-171.167 41.0001,-181.167 48.0001,-181.167\"/>\r\n",
       "<text text-anchor=\"middle\" x=\"49.5\" y=\"-192.8\" font-family=\"Times New Roman,serif\" font-size=\"14.00\">A</text>\r\n",
       "</g>\r\n",
       "<!-- 2 -->\r\n",
       "<g id=\"node2\" class=\"node\"><title>2</title>\r\n",
       "<polygon fill=\"none\" stroke=\"black\" points=\"23,-97 0,-97 0,-74 23,-74 23,-97\"/>\r\n",
       "<text text-anchor=\"middle\" x=\"11.5\" y=\"-81.8\" font-family=\"Times New Roman,serif\" font-size=\"14.00\">2</text>\r\n",
       "</g>\r\n",
       "<!-- 7&#45;&gt;2 -->\r\n",
       "<g id=\"edge6\" class=\"edge\"><title>7&#45;&gt;2</title>\r\n",
       "<path fill=\"none\" stroke=\"#000099\" stroke-width=\"1.5\" d=\"M38.0615,-147.859C34.9876,-142.58 31.3644,-136.052 28.5,-130 24.9229,-122.442 21.4691,-113.914 18.6197,-106.425\"/>\r\n",
       "<polygon fill=\"#000099\" stroke=\"#000099\" stroke-width=\"1.5\" points=\"21.9026,-105.211 15.154,-97.0434 15.3363,-107.637 21.9026,-105.211\"/>\r\n",
       "<text text-anchor=\"middle\" x=\"33.5\" y=\"-118.8\" font-family=\"Times New Roman,serif\" font-size=\"14.00\">B</text>\r\n",
       "</g>\r\n",
       "<!-- 12 -->\r\n",
       "<g id=\"node4\" class=\"node\"><title>12</title>\r\n",
       "<polygon fill=\"none\" stroke=\"black\" points=\"89,-97 66,-97 66,-74 89,-74 89,-97\"/>\r\n",
       "<text text-anchor=\"middle\" x=\"77.5\" y=\"-81.8\" font-family=\"Times New Roman,serif\" font-size=\"14.00\">12</text>\r\n",
       "</g>\r\n",
       "<!-- 7&#45;&gt;12 -->\r\n",
       "<g id=\"edge2\" class=\"edge\"><title>7&#45;&gt;12</title>\r\n",
       "<path fill=\"none\" stroke=\"#6666ff\" stroke-width=\"1.5\" d=\"M42.4752,-147.956C41.2322,-138.803 40.6812,-125.422 45.5,-115 48.2202,-109.117 52.7953,-103.937 57.6476,-99.6633\"/>\r\n",
       "<polygon fill=\"#6666ff\" stroke=\"#6666ff\" stroke-width=\"1.5\" points=\"60.0269,-102.248 65.797,-93.3622 55.7451,-96.7102 60.0269,-102.248\"/>\r\n",
       "<text text-anchor=\"middle\" x=\"50.5\" y=\"-118.8\" font-family=\"Times New Roman,serif\" font-size=\"14.00\">A</text>\r\n",
       "</g>\r\n",
       "<!-- 12&#45;&gt;7 -->\r\n",
       "<g id=\"edge5\" class=\"edge\"><title>12&#45;&gt;7</title>\r\n",
       "<path fill=\"none\" stroke=\"#000099\" stroke-width=\"1.5\" d=\"M72.6108,-97.1674C67.6312,-108.032 59.7912,-125.137 53.6545,-138.527\"/>\r\n",
       "<polygon fill=\"#000099\" stroke=\"#000099\" stroke-width=\"1.5\" points=\"50.3541,-137.327 49.3693,-147.876 56.7176,-140.244 50.3541,-137.327\"/>\r\n",
       "<text text-anchor=\"middle\" x=\"69.5\" y=\"-118.8\" font-family=\"Times New Roman,serif\" font-size=\"14.00\">B</text>\r\n",
       "</g>\r\n",
       "<!-- 19 -->\r\n",
       "<g id=\"node5\" class=\"node\"><title>19</title>\r\n",
       "<polygon fill=\"none\" stroke=\"black\" points=\"89,-23 66,-23 66,-0 89,-0 89,-23\"/>\r\n",
       "<text text-anchor=\"middle\" x=\"77.5\" y=\"-7.8\" font-family=\"Times New Roman,serif\" font-size=\"14.00\">19</text>\r\n",
       "</g>\r\n",
       "<!-- 12&#45;&gt;19 -->\r\n",
       "<g id=\"edge3\" class=\"edge\"><title>12&#45;&gt;19</title>\r\n",
       "<path fill=\"none\" stroke=\"#6666ff\" stroke-width=\"1.5\" d=\"M77.5,-73.8762C77.5,-63.2412 77.5,-46.5946 77.5,-33.3195\"/>\r\n",
       "<polygon fill=\"#6666ff\" stroke=\"#6666ff\" stroke-width=\"1.5\" points=\"81.0001,-33.1674 77.5,-23.1674 74.0001,-33.1675 81.0001,-33.1674\"/>\r\n",
       "<text text-anchor=\"middle\" x=\"82.5\" y=\"-44.8\" font-family=\"Times New Roman,serif\" font-size=\"14.00\">A</text>\r\n",
       "</g>\r\n",
       "<!-- 25 -->\r\n",
       "<g id=\"node6\" class=\"node\"><title>25</title>\r\n",
       "<polygon fill=\"none\" stroke=\"black\" points=\"122,-171 99,-171 99,-148 122,-148 122,-171\"/>\r\n",
       "<text text-anchor=\"middle\" x=\"110.5\" y=\"-155.8\" font-family=\"Times New Roman,serif\" font-size=\"14.00\">25</text>\r\n",
       "</g>\r\n",
       "<!-- 25&#45;&gt;12 -->\r\n",
       "<g id=\"edge4\" class=\"edge\"><title>25&#45;&gt;12</title>\r\n",
       "<path fill=\"none\" stroke=\"#000099\" stroke-width=\"1.5\" d=\"M105.631,-147.876C100.659,-137.028 92.8204,-119.926 86.6791,-106.527\"/>\r\n",
       "<polygon fill=\"#000099\" stroke=\"#000099\" stroke-width=\"1.5\" points=\"89.7376,-104.8 82.3892,-97.1674 83.3741,-107.716 89.7376,-104.8\"/>\r\n",
       "<text text-anchor=\"middle\" x=\"102.5\" y=\"-118.8\" font-family=\"Times New Roman,serif\" font-size=\"14.00\">B</text>\r\n",
       "</g>\r\n",
       "</g>\r\n",
       "</svg>\r\n"
      ],
      "text/plain": [
       "<graphviz.dot.Digraph at 0x184a49183c8>"
      ]
     },
     "execution_count": 10,
     "metadata": {},
     "output_type": "execute_result"
    }
   ],
   "source": [
    "g = Digraph()\n",
    "\n",
    "# draw nodes\n",
    "g.attr('node', width=\"0\", height=\"0\", margin=\"0.05\", shape=\"square\")\n",
    "for stop in important:\n",
    "    g.node(str(stop))\n",
    "\n",
    "# draw edges\n",
    "colors = [\"#6666FF\", \"#000099\"]\n",
    "for route, stops in routes.items():\n",
    "    g.attr('edge', color=colors.pop(0), penwidth=\"1.5\")\n",
    "    for i in range(len(stops) - 1):\n",
    "        g.edge(str(stops[i]), str(stops[i+1]), str(route))\n",
    "\n",
    "g"
   ]
  },
  {
   "cell_type": "markdown",
   "metadata": {},
   "source": [
    "## scikit learn"
   ]
  },
  {
   "cell_type": "code",
   "execution_count": 2,
   "metadata": {},
   "outputs": [],
   "source": [
    "from sklearn.tree import DecisionTreeClassifier, export_graphviz\n",
    "from sklearn.utils import shuffle"
   ]
  },
  {
   "cell_type": "code",
   "execution_count": 3,
   "metadata": {},
   "outputs": [
    {
     "data": {
      "text/html": [
       "<div>\n",
       "<style scoped>\n",
       "    .dataframe tbody tr th:only-of-type {\n",
       "        vertical-align: middle;\n",
       "    }\n",
       "\n",
       "    .dataframe tbody tr th {\n",
       "        vertical-align: top;\n",
       "    }\n",
       "\n",
       "    .dataframe thead th {\n",
       "        text-align: right;\n",
       "    }\n",
       "</style>\n",
       "<table border=\"1\" class=\"dataframe\">\n",
       "  <thead>\n",
       "    <tr style=\"text-align: right;\">\n",
       "      <th></th>\n",
       "      <th>Pregnancies</th>\n",
       "      <th>Glucose</th>\n",
       "      <th>BloodPressure</th>\n",
       "      <th>SkinThickness</th>\n",
       "      <th>Insulin</th>\n",
       "      <th>BMI</th>\n",
       "      <th>DiabetesPedigreeFunction</th>\n",
       "      <th>Age</th>\n",
       "      <th>Outcome</th>\n",
       "    </tr>\n",
       "  </thead>\n",
       "  <tbody>\n",
       "    <tr>\n",
       "      <th>0</th>\n",
       "      <td>6</td>\n",
       "      <td>148</td>\n",
       "      <td>72</td>\n",
       "      <td>35</td>\n",
       "      <td>0</td>\n",
       "      <td>33.6</td>\n",
       "      <td>0.627</td>\n",
       "      <td>50</td>\n",
       "      <td>1</td>\n",
       "    </tr>\n",
       "    <tr>\n",
       "      <th>1</th>\n",
       "      <td>1</td>\n",
       "      <td>85</td>\n",
       "      <td>66</td>\n",
       "      <td>29</td>\n",
       "      <td>0</td>\n",
       "      <td>26.6</td>\n",
       "      <td>0.351</td>\n",
       "      <td>31</td>\n",
       "      <td>0</td>\n",
       "    </tr>\n",
       "    <tr>\n",
       "      <th>2</th>\n",
       "      <td>8</td>\n",
       "      <td>183</td>\n",
       "      <td>64</td>\n",
       "      <td>0</td>\n",
       "      <td>0</td>\n",
       "      <td>23.3</td>\n",
       "      <td>0.672</td>\n",
       "      <td>32</td>\n",
       "      <td>1</td>\n",
       "    </tr>\n",
       "    <tr>\n",
       "      <th>3</th>\n",
       "      <td>1</td>\n",
       "      <td>89</td>\n",
       "      <td>66</td>\n",
       "      <td>23</td>\n",
       "      <td>94</td>\n",
       "      <td>28.1</td>\n",
       "      <td>0.167</td>\n",
       "      <td>21</td>\n",
       "      <td>0</td>\n",
       "    </tr>\n",
       "    <tr>\n",
       "      <th>4</th>\n",
       "      <td>0</td>\n",
       "      <td>137</td>\n",
       "      <td>40</td>\n",
       "      <td>35</td>\n",
       "      <td>168</td>\n",
       "      <td>43.1</td>\n",
       "      <td>2.288</td>\n",
       "      <td>33</td>\n",
       "      <td>1</td>\n",
       "    </tr>\n",
       "  </tbody>\n",
       "</table>\n",
       "</div>"
      ],
      "text/plain": [
       "   Pregnancies  Glucose  BloodPressure  SkinThickness  Insulin   BMI  \\\n",
       "0            6      148             72             35        0  33.6   \n",
       "1            1       85             66             29        0  26.6   \n",
       "2            8      183             64              0        0  23.3   \n",
       "3            1       89             66             23       94  28.1   \n",
       "4            0      137             40             35      168  43.1   \n",
       "\n",
       "   DiabetesPedigreeFunction  Age  Outcome  \n",
       "0                     0.627   50        1  \n",
       "1                     0.351   31        0  \n",
       "2                     0.672   32        1  \n",
       "3                     0.167   21        0  \n",
       "4                     2.288   33        1  "
      ]
     },
     "execution_count": 3,
     "metadata": {},
     "output_type": "execute_result"
    }
   ],
   "source": [
    "df = pd.read_csv(\"diabetes.csv\")\n",
    "df.head()"
   ]
  },
  {
   "cell_type": "code",
   "execution_count": 12,
   "metadata": {},
   "outputs": [],
   "source": [
    "df = shuffle(df)\n",
    "middle = len(df) // 2\n",
    "trainX = df.iloc[:middle, :-1]\n",
    "trainy = df.iloc[:middle, -1]\n",
    "testX = df.iloc[middle:, :-1]\n",
    "testy = df.iloc[middle:, -1]"
   ]
  },
  {
   "cell_type": "code",
   "execution_count": 13,
   "metadata": {},
   "outputs": [
    {
     "data": {
      "text/plain": [
       "DecisionTreeClassifier(class_weight=None, criterion='gini', max_depth=3,\n",
       "            max_features=None, max_leaf_nodes=None,\n",
       "            min_impurity_decrease=0.0, min_impurity_split=None,\n",
       "            min_samples_leaf=1, min_samples_split=2,\n",
       "            min_weight_fraction_leaf=0.0, presort=False, random_state=None,\n",
       "            splitter='best')"
      ]
     },
     "execution_count": 13,
     "metadata": {},
     "output_type": "execute_result"
    }
   ],
   "source": [
    "tree = DecisionTreeClassifier(max_depth=3)\n",
    "tree.fit(trainX, trainy)\n",
    "tree"
   ]
  },
  {
   "cell_type": "code",
   "execution_count": 7,
   "metadata": {},
   "outputs": [],
   "source": [
    "with open(\"out.dot\", \"w\") as f:\n",
    "    export_graphviz(tree, out_file=f, feature_names=df.columns[:-1])"
   ]
  },
  {
   "cell_type": "code",
   "execution_count": null,
   "metadata": {},
   "outputs": [],
   "source": [
    "# dot out.dot -T png -o output.png"
   ]
  },
  {
   "cell_type": "code",
   "execution_count": 15,
   "metadata": {},
   "outputs": [
    {
     "data": {
      "text/plain": [
       "True     279\n",
       "False    105\n",
       "Name: Outcome, dtype: int64"
      ]
     },
     "execution_count": 15,
     "metadata": {},
     "output_type": "execute_result"
    }
   ],
   "source": [
    "tree.predict(testX.iloc[0:1, :])\n",
    "(tree.predict(testX) == testy).value_counts()"
   ]
  },
  {
   "cell_type": "code",
   "execution_count": null,
   "metadata": {},
   "outputs": [],
   "source": []
  },
  {
   "cell_type": "code",
   "execution_count": 1,
   "metadata": {},
   "outputs": [
    {
     "ename": "ModuleNotFoundError",
     "evalue": "No module named 'torch'",
     "output_type": "error",
     "traceback": [
      "\u001b[1;31m---------------------------------------------------------------------------\u001b[0m",
      "\u001b[1;31mModuleNotFoundError\u001b[0m                       Traceback (most recent call last)",
      "\u001b[1;32m<ipython-input-1-d5baca3990f6>\u001b[0m in \u001b[0;36m<module>\u001b[1;34m\u001b[0m\n\u001b[1;32m----> 1\u001b[1;33m \u001b[1;32mimport\u001b[0m \u001b[0mtorch\u001b[0m\u001b[1;33m\u001b[0m\u001b[1;33m\u001b[0m\u001b[0m\n\u001b[0m\u001b[0;32m      2\u001b[0m \u001b[1;32mfrom\u001b[0m \u001b[0mtorch\u001b[0m \u001b[1;32mimport\u001b[0m \u001b[0mtensor\u001b[0m\u001b[1;33m,\u001b[0m \u001b[0msigmoid\u001b[0m\u001b[1;33m,\u001b[0m \u001b[0mmm\u001b[0m\u001b[1;33m\u001b[0m\u001b[1;33m\u001b[0m\u001b[0m\n",
      "\u001b[1;31mModuleNotFoundError\u001b[0m: No module named 'torch'"
     ]
    }
   ],
   "source": [
    "import torch\n",
    "from torch import tensor, sigmoid, mm"
   ]
  },
  {
   "cell_type": "markdown",
   "metadata": {},
   "source": [
    "pytorch go to see 12-pytorch. "
   ]
  },
  {
   "cell_type": "code",
   "execution_count": null,
   "metadata": {},
   "outputs": [],
   "source": []
  },
  {
   "cell_type": "code",
   "execution_count": null,
   "metadata": {},
   "outputs": [],
   "source": []
  }
 ],
 "metadata": {
  "kernelspec": {
   "display_name": "Python 3",
   "language": "python",
   "name": "python3"
  },
  "language_info": {
   "codemirror_mode": {
    "name": "ipython",
    "version": 3
   },
   "file_extension": ".py",
   "mimetype": "text/x-python",
   "name": "python",
   "nbconvert_exporter": "python",
   "pygments_lexer": "ipython3",
   "version": "3.7.1"
  }
 },
 "nbformat": 4,
 "nbformat_minor": 2
}
