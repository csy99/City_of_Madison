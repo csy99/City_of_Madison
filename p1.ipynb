{
 "cells": [
  {
   "cell_type": "markdown",
   "metadata": {},
   "source": [
    "author: Songyang Cheng\n",
    "date: 0911"
   ]
  },
  {
   "cell_type": "code",
   "execution_count": 18,
   "metadata": {},
   "outputs": [],
   "source": [
    "import pandas as pd\n",
    "import numpy as np\n",
    "import matplotlib.pyplot as plt\n",
    "import seaborn as sns"
   ]
  },
  {
   "cell_type": "code",
   "execution_count": 17,
   "metadata": {},
   "outputs": [],
   "source": [
    "%matplotlib inline"
   ]
  },
  {
   "cell_type": "markdown",
   "metadata": {},
   "source": [
    "# Bus Rapid Transit System Lines\n",
    "http://data-cityofmadison.opendata.arcgis.com/datasets/bus-rapid-transit-system-lines?orderBy=Type&orderByAsc=false&selectedAttribute=Corridor"
   ]
  },
  {
   "cell_type": "code",
   "execution_count": 3,
   "metadata": {},
   "outputs": [
    {
     "data": {
      "text/html": [
       "<div>\n",
       "<style scoped>\n",
       "    .dataframe tbody tr th:only-of-type {\n",
       "        vertical-align: middle;\n",
       "    }\n",
       "\n",
       "    .dataframe tbody tr th {\n",
       "        vertical-align: top;\n",
       "    }\n",
       "\n",
       "    .dataframe thead th {\n",
       "        text-align: right;\n",
       "    }\n",
       "</style>\n",
       "<table border=\"1\" class=\"dataframe\">\n",
       "  <thead>\n",
       "    <tr style=\"text-align: right;\">\n",
       "      <th></th>\n",
       "      <th>OBJECTID</th>\n",
       "      <th>Type</th>\n",
       "      <th>Comments</th>\n",
       "      <th>SHAPESTLength</th>\n",
       "      <th>Corridor</th>\n",
       "      <th>Notes</th>\n",
       "    </tr>\n",
       "  </thead>\n",
       "  <tbody>\n",
       "    <tr>\n",
       "      <th>0</th>\n",
       "      <td>1</td>\n",
       "      <td>main</td>\n",
       "      <td>NaN</td>\n",
       "      <td>5884.251504</td>\n",
       "      <td>C</td>\n",
       "      <td>NaN</td>\n",
       "    </tr>\n",
       "    <tr>\n",
       "      <th>1</th>\n",
       "      <td>2</td>\n",
       "      <td>main</td>\n",
       "      <td>NaN</td>\n",
       "      <td>5587.122267</td>\n",
       "      <td>C</td>\n",
       "      <td>NaN</td>\n",
       "    </tr>\n",
       "    <tr>\n",
       "      <th>2</th>\n",
       "      <td>3</td>\n",
       "      <td>main</td>\n",
       "      <td>NaN</td>\n",
       "      <td>20640.279196</td>\n",
       "      <td>W</td>\n",
       "      <td>NaN</td>\n",
       "    </tr>\n",
       "    <tr>\n",
       "      <th>3</th>\n",
       "      <td>4</td>\n",
       "      <td>main</td>\n",
       "      <td>NaN</td>\n",
       "      <td>25912.556655</td>\n",
       "      <td>E</td>\n",
       "      <td>NaN</td>\n",
       "    </tr>\n",
       "    <tr>\n",
       "      <th>4</th>\n",
       "      <td>5</td>\n",
       "      <td>alt</td>\n",
       "      <td>NaN</td>\n",
       "      <td>16437.002031</td>\n",
       "      <td>N</td>\n",
       "      <td>sherman</td>\n",
       "    </tr>\n",
       "  </tbody>\n",
       "</table>\n",
       "</div>"
      ],
      "text/plain": [
       "   OBJECTID  Type Comments  SHAPESTLength Corridor    Notes\n",
       "0         1  main      NaN    5884.251504        C      NaN\n",
       "1         2  main      NaN    5587.122267        C      NaN\n",
       "2         3  main      NaN   20640.279196        W      NaN\n",
       "3         4  main      NaN   25912.556655        E      NaN\n",
       "4         5   alt      NaN   16437.002031        N  sherman"
      ]
     },
     "execution_count": 3,
     "metadata": {},
     "output_type": "execute_result"
    }
   ],
   "source": [
    "brt_data = pd.read_csv(\"Bus_Rapid_Transit_System_Lines.csv\")\n",
    "brt_data.head()"
   ]
  },
  {
   "cell_type": "code",
   "execution_count": 47,
   "metadata": {},
   "outputs": [
    {
     "data": {
      "text/plain": [
       "(main    9\n",
       " alt     8\n",
       " ext     1\n",
       " Name: Type, dtype: int64, C    7\n",
       " W    5\n",
       " N    4\n",
       " S    1\n",
       " E    1\n",
       " Name: Corridor, dtype: int64)"
      ]
     },
     "execution_count": 47,
     "metadata": {},
     "output_type": "execute_result"
    }
   ],
   "source": [
    "brt_data.Type.value_counts(), brt_data.Corridor.value_counts()"
   ]
  },
  {
   "cell_type": "code",
   "execution_count": 49,
   "metadata": {},
   "outputs": [
    {
     "data": {
      "image/png": "[encoded data removed]",
      "text/plain": [
       "<Figure size 864x360 with 2 Axes>"
      ]
     },
     "metadata": {
      "needs_background": "light"
     },
     "output_type": "display_data"
    }
   ],
   "source": [
    "shape_len = brt_data.SHAPESTLength\n",
    "\n",
    "plt.rcParams['figure.figsize'] = (12.0, 5.0)\n",
    "\n",
    "plt.subplot(121)  # the first plot\n",
    "len_mean_type = brt_data.groupby(brt_data.Type)[\"SHAPESTLength\"].mean()\n",
    "ax1 = sns.barplot(x = len_mean_type.index, y = len_mean_type.values)\n",
    "ax1.set_title(\"Average Length VS Type\")\n",
    "ax1.set_xlabel(\"type\")\n",
    "ax1.set_xticklabels(labels = len_mean_type.index, rotation = 60)\n",
    "ax1.set_ylabel(\"average length\")\n",
    "\n",
    "\n",
    "plt.subplot(122)  # the second plot \n",
    "len_mean_corridor = brt_data.groupby(brt_data.Corridor)[\"SHAPESTLength\"].mean()\n",
    "ax2 = sns.barplot(x = len_mean_corridor.index, y = len_mean_corridor.values)\n",
    "ax2.set_title(\"Average Length VS Corridor\")\n",
    "ax2.set_xlabel(\"corridor\")\n",
    "ax2.set_xticklabels(labels = len_mean_corridor.index, rotation = 60)\n",
    "ax2.set_ylabel(\"average length\")\n",
    "None"
   ]
  },
  {
   "cell_type": "markdown",
   "metadata": {},
   "source": [
    "From the two plots above, we have a hunch that the bus lines with type of \"main\" and \"ext\" have a longer average length. In addition, the bus lines with Corridor of \"E\" and \"S\" seem to have longer average length. However, we need more data to draw the conclusion. "
   ]
  },
  {
   "cell_type": "markdown",
   "metadata": {},
   "source": [
    "# Metro Transit Ridership by Stop\n",
    "http://data-cityofmadison.opendata.arcgis.com/datasets/metro-transit-ridership-by-stop/data"
   ]
  },
  {
   "cell_type": "code",
   "execution_count": 50,
   "metadata": {},
   "outputs": [
    {
     "data": {
      "text/html": [
       "<div>\n",
       "<style scoped>\n",
       "    .dataframe tbody tr th:only-of-type {\n",
       "        vertical-align: middle;\n",
       "    }\n",
       "\n",
       "    .dataframe tbody tr th {\n",
       "        vertical-align: top;\n",
       "    }\n",
       "\n",
       "    .dataframe thead th {\n",
       "        text-align: right;\n",
       "    }\n",
       "</style>\n",
       "<table border=\"1\" class=\"dataframe\">\n",
       "  <thead>\n",
       "    <tr style=\"text-align: right;\">\n",
       "      <th></th>\n",
       "      <th>X</th>\n",
       "      <th>Y</th>\n",
       "      <th>OBJECTID</th>\n",
       "      <th>StopID</th>\n",
       "      <th>StopDescription</th>\n",
       "      <th>Lat</th>\n",
       "      <th>Lon</th>\n",
       "      <th>IntersectionID</th>\n",
       "      <th>Weekday</th>\n",
       "      <th>Saturday</th>\n",
       "      <th>Sunday</th>\n",
       "      <th>Weekday_1_79</th>\n",
       "      <th>Saturday_1_79</th>\n",
       "      <th>Sunday_1_79</th>\n",
       "      <th>WkdSvc</th>\n",
       "      <th>WkdBdPerSvc</th>\n",
       "      <th>DotSize</th>\n",
       "    </tr>\n",
       "  </thead>\n",
       "  <tbody>\n",
       "    <tr>\n",
       "      <th>0</th>\n",
       "      <td>-89.349317</td>\n",
       "      <td>43.127486</td>\n",
       "      <td>10694</td>\n",
       "      <td>9488</td>\n",
       "      <td>SB International AT Elder Care</td>\n",
       "      <td>43.127494</td>\n",
       "      <td>-89.349323</td>\n",
       "      <td>128</td>\n",
       "      <td>1.83</td>\n",
       "      <td>0.00</td>\n",
       "      <td>0.51</td>\n",
       "      <td>1.83</td>\n",
       "      <td>0.00</td>\n",
       "      <td>0.51</td>\n",
       "      <td>0</td>\n",
       "      <td>0</td>\n",
       "      <td>9173.69</td>\n",
       "    </tr>\n",
       "    <tr>\n",
       "      <th>1</th>\n",
       "      <td>-89.317427</td>\n",
       "      <td>43.121375</td>\n",
       "      <td>10695</td>\n",
       "      <td>9491</td>\n",
       "      <td>EB E Washington FS Lien</td>\n",
       "      <td>43.121383</td>\n",
       "      <td>-89.317433</td>\n",
       "      <td>545</td>\n",
       "      <td>2.17</td>\n",
       "      <td>0.00</td>\n",
       "      <td>2.52</td>\n",
       "      <td>2.17</td>\n",
       "      <td>0.00</td>\n",
       "      <td>2.52</td>\n",
       "      <td>0</td>\n",
       "      <td>0</td>\n",
       "      <td>10864.61</td>\n",
       "    </tr>\n",
       "    <tr>\n",
       "      <th>2</th>\n",
       "      <td>-89.349726</td>\n",
       "      <td>43.125722</td>\n",
       "      <td>10696</td>\n",
       "      <td>9493</td>\n",
       "      <td>NB International FS American</td>\n",
       "      <td>43.125730</td>\n",
       "      <td>-89.349732</td>\n",
       "      <td>551</td>\n",
       "      <td>3.84</td>\n",
       "      <td>0.51</td>\n",
       "      <td>0.00</td>\n",
       "      <td>3.84</td>\n",
       "      <td>0.51</td>\n",
       "      <td>0.00</td>\n",
       "      <td>0</td>\n",
       "      <td>0</td>\n",
       "      <td>19181.35</td>\n",
       "    </tr>\n",
       "    <tr>\n",
       "      <th>3</th>\n",
       "      <td>-89.315811</td>\n",
       "      <td>43.135619</td>\n",
       "      <td>10697</td>\n",
       "      <td>9494</td>\n",
       "      <td>SB Portage NS Rieder</td>\n",
       "      <td>43.135627</td>\n",
       "      <td>-89.315817</td>\n",
       "      <td>575</td>\n",
       "      <td>5.52</td>\n",
       "      <td>3.02</td>\n",
       "      <td>2.02</td>\n",
       "      <td>5.52</td>\n",
       "      <td>3.02</td>\n",
       "      <td>2.02</td>\n",
       "      <td>0</td>\n",
       "      <td>0</td>\n",
       "      <td>27579.41</td>\n",
       "    </tr>\n",
       "    <tr>\n",
       "      <th>4</th>\n",
       "      <td>-89.287892</td>\n",
       "      <td>43.132746</td>\n",
       "      <td>10698</td>\n",
       "      <td>9498</td>\n",
       "      <td>SB City View NS Wall</td>\n",
       "      <td>43.132754</td>\n",
       "      <td>-89.287898</td>\n",
       "      <td>563</td>\n",
       "      <td>4.05</td>\n",
       "      <td>0.50</td>\n",
       "      <td>1.50</td>\n",
       "      <td>4.05</td>\n",
       "      <td>0.50</td>\n",
       "      <td>1.50</td>\n",
       "      <td>0</td>\n",
       "      <td>0</td>\n",
       "      <td>20263.65</td>\n",
       "    </tr>\n",
       "  </tbody>\n",
       "</table>\n",
       "</div>"
      ],
      "text/plain": [
       "           X          Y  OBJECTID  StopID                 StopDescription  \\\n",
       "0 -89.349317  43.127486     10694    9488  SB International AT Elder Care   \n",
       "1 -89.317427  43.121375     10695    9491         EB E Washington FS Lien   \n",
       "2 -89.349726  43.125722     10696    9493    NB International FS American   \n",
       "3 -89.315811  43.135619     10697    9494            SB Portage NS Rieder   \n",
       "4 -89.287892  43.132746     10698    9498            SB City View NS Wall   \n",
       "\n",
       "         Lat        Lon  IntersectionID  Weekday  Saturday  Sunday  \\\n",
       "0  43.127494 -89.349323             128     1.83      0.00    0.51   \n",
       "1  43.121383 -89.317433             545     2.17      0.00    2.52   \n",
       "2  43.125730 -89.349732             551     3.84      0.51    0.00   \n",
       "3  43.135627 -89.315817             575     5.52      3.02    2.02   \n",
       "4  43.132754 -89.287898             563     4.05      0.50    1.50   \n",
       "\n",
       "   Weekday_1_79  Saturday_1_79  Sunday_1_79  WkdSvc  WkdBdPerSvc   DotSize  \n",
       "0          1.83           0.00         0.51       0            0   9173.69  \n",
       "1          2.17           0.00         2.52       0            0  10864.61  \n",
       "2          3.84           0.51         0.00       0            0  19181.35  \n",
       "3          5.52           3.02         2.02       0            0  27579.41  \n",
       "4          4.05           0.50         1.50       0            0  20263.65  "
      ]
     },
     "execution_count": 50,
     "metadata": {},
     "output_type": "execute_result"
    }
   ],
   "source": [
    "ridership = pd.read_csv(\"Metro_Transit_Ridership_by_Stop.csv\")\n",
    "ridership.head()"
   ]
  },
  {
   "cell_type": "code",
   "execution_count": 54,
   "metadata": {},
   "outputs": [
    {
     "data": {
      "text/plain": [
       "107    1712.50\n",
       "253    1545.48\n",
       "132    1423.77\n",
       "106    1324.66\n",
       "105    1261.37\n",
       "Name: Weekday, dtype: float64"
      ]
     },
     "execution_count": 54,
     "metadata": {},
     "output_type": "execute_result"
    }
   ],
   "source": [
    "weekday_sort = ridership.Weekday.sort_values(ascending = False)\n",
    "weekday_sort.head()"
   ]
  },
  {
   "cell_type": "code",
   "execution_count": 55,
   "metadata": {},
   "outputs": [
    {
     "data": {
      "text/plain": [
       "107    954.32\n",
       "105    500.85\n",
       "108    475.59\n",
       "106    468.69\n",
       "253    374.56\n",
       "Name: Saturday, dtype: float64"
      ]
     },
     "execution_count": 55,
     "metadata": {},
     "output_type": "execute_result"
    }
   ],
   "source": [
    "Saturday_sort = ridership.Saturday.sort_values(ascending = False)\n",
    "Saturday_sort.head()"
   ]
  },
  {
   "cell_type": "code",
   "execution_count": 56,
   "metadata": {},
   "outputs": [
    {
     "data": {
      "text/plain": [
       "107    679.61\n",
       "106    400.18\n",
       "253    357.74\n",
       "108    354.92\n",
       "105    337.97\n",
       "Name: Sunday, dtype: float64"
      ]
     },
     "execution_count": 56,
     "metadata": {},
     "output_type": "execute_result"
    }
   ],
   "source": [
    "Sunday_sort = ridership.Sunday.sort_values(ascending = False)\n",
    "Sunday_sort.head()"
   ]
  },
  {
   "cell_type": "code",
   "execution_count": 59,
   "metadata": {},
   "outputs": [
    {
     "data": {
      "text/html": [
       "<div>\n",
       "<style scoped>\n",
       "    .dataframe tbody tr th:only-of-type {\n",
       "        vertical-align: middle;\n",
       "    }\n",
       "\n",
       "    .dataframe tbody tr th {\n",
       "        vertical-align: top;\n",
       "    }\n",
       "\n",
       "    .dataframe thead th {\n",
       "        text-align: right;\n",
       "    }\n",
       "</style>\n",
       "<table border=\"1\" class=\"dataframe\">\n",
       "  <thead>\n",
       "    <tr style=\"text-align: right;\">\n",
       "      <th></th>\n",
       "      <th>Weekday</th>\n",
       "      <th>Saturday</th>\n",
       "      <th>Sunday</th>\n",
       "    </tr>\n",
       "  </thead>\n",
       "  <tbody>\n",
       "    <tr>\n",
       "      <th>105</th>\n",
       "      <td>1261.37</td>\n",
       "      <td>500.85</td>\n",
       "      <td>337.97</td>\n",
       "    </tr>\n",
       "    <tr>\n",
       "      <th>106</th>\n",
       "      <td>1324.66</td>\n",
       "      <td>468.69</td>\n",
       "      <td>400.18</td>\n",
       "    </tr>\n",
       "    <tr>\n",
       "      <th>107</th>\n",
       "      <td>1712.50</td>\n",
       "      <td>954.32</td>\n",
       "      <td>679.61</td>\n",
       "    </tr>\n",
       "    <tr>\n",
       "      <th>108</th>\n",
       "      <td>1099.64</td>\n",
       "      <td>475.59</td>\n",
       "      <td>354.92</td>\n",
       "    </tr>\n",
       "    <tr>\n",
       "      <th>132</th>\n",
       "      <td>1423.77</td>\n",
       "      <td>233.21</td>\n",
       "      <td>244.73</td>\n",
       "    </tr>\n",
       "    <tr>\n",
       "      <th>253</th>\n",
       "      <td>1545.48</td>\n",
       "      <td>374.56</td>\n",
       "      <td>357.74</td>\n",
       "    </tr>\n",
       "  </tbody>\n",
       "</table>\n",
       "</div>"
      ],
      "text/plain": [
       "     Weekday  Saturday  Sunday\n",
       "105  1261.37    500.85  337.97\n",
       "106  1324.66    468.69  400.18\n",
       "107  1712.50    954.32  679.61\n",
       "108  1099.64    475.59  354.92\n",
       "132  1423.77    233.21  244.73\n",
       "253  1545.48    374.56  357.74"
      ]
     },
     "execution_count": 59,
     "metadata": {},
     "output_type": "execute_result"
    }
   ],
   "source": [
    "top = ridership.loc[[105, 106, 107, 108, 132, 253], ['Weekday', 'Saturday', 'Sunday']]\n",
    "top"
   ]
  },
  {
   "cell_type": "code",
   "execution_count": 88,
   "metadata": {},
   "outputs": [
    {
     "data": {
      "image/png": "[encoded data removed]",
      "text/plain": [
       "<Figure size 576x360 with 1 Axes>"
      ]
     },
     "metadata": {
      "needs_background": "light"
     },
     "output_type": "display_data"
    }
   ],
   "source": [
    "plt.figure(figsize=(8,5))\n",
    "for it in (105, 106, 107, 108, 132, 253):\n",
    "    plt.plot(top.loc[it].index, top.loc[it].values, label=str(it))\n",
    "plt.title(\"Value with Day of the Week\")\n",
    "plt.xlabel('Day of the Week')\n",
    "plt.ylabel('Value')\n",
    "plt.legend()\n",
    "plt.show()\n",
    "None"
   ]
  },
  {
   "cell_type": "markdown",
   "metadata": {},
   "source": [
    "We can see the value has a big drop in the Saturday and Sunday compared to its value in Weekday. "
   ]
  },
  {
   "cell_type": "code",
   "execution_count": null,
   "metadata": {},
   "outputs": [],
   "source": []
  }
 ],
 "metadata": {
  "kernelspec": {
   "display_name": "Python 3",
   "language": "python",
   "name": "python3"
  },
  "language_info": {
   "codemirror_mode": {
    "name": "ipython",
    "version": 3
   },
   "file_extension": ".py",
   "mimetype": "text/x-python",
   "name": "python",
   "nbconvert_exporter": "python",
   "pygments_lexer": "ipython3",
   "version": "3.7.1"
  }
 },
 "nbformat": 4,
 "nbformat_minor": 2
}
